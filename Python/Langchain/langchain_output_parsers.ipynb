{
  "nbformat": 4,
  "nbformat_minor": 0,
  "metadata": {
    "colab": {
      "provenance": [],
      "authorship_tag": "ABX9TyOTCjHwa0hDIQpdQbOglGJj",
      "include_colab_link": true
    },
    "kernelspec": {
      "name": "python3",
      "display_name": "Python 3"
    },
    "language_info": {
      "name": "python"
    }
  },
  "cells": [
    {
      "cell_type": "markdown",
      "metadata": {
        "id": "view-in-github",
        "colab_type": "text"
      },
      "source": [
        "<a href=\"https://colab.research.google.com/github/Abhi23run/Abhi23run.github.io/blob/master/Python/Langchain/langchain_output_parsers.ipynb\" target=\"_parent\"><img src=\"https://colab.research.google.com/assets/colab-badge.svg\" alt=\"Open In Colab\"/></a>"
      ]
    },
    {
      "cell_type": "code",
      "execution_count": 1,
      "metadata": {
        "id": "2gnVsRG68Wr9"
      },
      "outputs": [],
      "source": [
        "#!pip install langchain openai"
      ]
    },
    {
      "cell_type": "code",
      "source": [
        "from typing import List\n",
        "from pydantic import BaseModel, Field, validator\n",
        "\n",
        "class CodeRisk(BaseModel):\n",
        "    description: str = Field(description=\"A brief description of the security risk\")\n",
        "    severity: str = Field(description=\"The level of severity of the risk\")\n",
        "    recommendations: List[str] = Field(description=\"Recommended actions to mitigate the risk\")\n",
        "\n",
        "    @validator(\"severity\")\n",
        "    def severity_must_be_valid(cls, field):\n",
        "        if field not in [\"Low\", \"Medium\", \"High\", \"Critical\"]:\n",
        "            raise ValueError(\"Invalid severity level!\")\n",
        "        return field\n",
        "\n",
        "from langchain.llms import OpenAI\n",
        "from langchain.output_parsers import PydanticOutputParser\n",
        "from langchain.prompts import PromptTemplate\n",
        "\n",
        "# Assuming 'code_snippet' contains the code to be analyzed\n",
        "query = f\"Analyze this code for security risks: {code_snippet}\"\n",
        "\n",
        "# Set up the PydanticOutputParser with the CodeRisk model\n",
        "parser = PydanticOutputParser(model=CodeRisk)\n",
        "\n",
        "# Query the LLM and parse the output\n",
        "llm = OpenAI(model_name='text-davinci-003', temperature=0)\n",
        "response = llm.query(query)\n",
        "structured_response = parser.parse(response)\n",
        "\n",
        "print(structured_response)\n"
      ],
      "metadata": {
        "id": "Olym6I8lABnA"
      },
      "execution_count": null,
      "outputs": []
    }
  ]
}